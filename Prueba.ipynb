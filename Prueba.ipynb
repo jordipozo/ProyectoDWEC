{
  "nbformat": 4,
  "nbformat_minor": 0,
  "metadata": {
    "colab": {
      "name": "Prueba.ipynb",
      "provenance": [],
      "collapsed_sections": [],
      "authorship_tag": "ABX9TyMSTyDwEdTftyA7Tf41XMnr",
      "include_colab_link": true
    },
    "kernelspec": {
      "name": "python3",
      "display_name": "Python 3"
    },
    "language_info": {
      "name": "python"
    }
  },
  "cells": [
    {
      "cell_type": "markdown",
      "metadata": {
        "id": "view-in-github",
        "colab_type": "text"
      },
      "source": [
        "<a href=\"https://colab.research.google.com/github/jordipozo/ProyectoDWEC/blob/master/Prueba.ipynb\" target=\"_parent\"><img src=\"https://colab.research.google.com/assets/colab-badge.svg\" alt=\"Open In Colab\"/></a>"
      ]
    },
    {
      "cell_type": "code",
      "metadata": {
        "colab": {
          "base_uri": "https://localhost:8080/"
        },
        "id": "8zg8B_FVVcAs",
        "outputId": "d44a5587-0a0d-43ab-e5cc-f21ddea0f416"
      },
      "source": [
        "print('pepe')"
      ],
      "execution_count": null,
      "outputs": [
        {
          "output_type": "stream",
          "text": [
            "pepe\n"
          ],
          "name": "stdout"
        }
      ]
    },
    {
      "cell_type": "markdown",
      "metadata": {
        "id": "C-lM4yAQVg3T"
      },
      "source": [
        "Cuaderno de pruebas en colab"
      ]
    },
    {
      "cell_type": "code",
      "metadata": {
        "colab": {
          "base_uri": "https://localhost:8080/"
        },
        "id": "g21fhEor3bZq",
        "outputId": "9ba3a867-7b3d-4a94-ba0d-231534713d7e"
      },
      "source": [
        "j=int(input('Dame un número'))\n",
        "media=j/2\n",
        "print('La media es: ',media)"
      ],
      "execution_count": 1,
      "outputs": [
        {
          "output_type": "stream",
          "text": [
            "Dame un número8\n",
            "La media es:  4.0\n"
          ],
          "name": "stdout"
        }
      ]
    }
  ]
}